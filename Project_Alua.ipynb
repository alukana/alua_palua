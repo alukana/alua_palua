{
 "cells": [
  {
   "cell_type": "code",
   "execution_count": 1,
   "metadata": {},
   "outputs": [],
   "source": [
    "from sklearn.datasets import load_boston\n",
    "from random import seed\n",
    "from random import randrange\n",
    "from csv import reader\n",
    "from math import sqrt\n",
    "from sklearn import preprocessing\n",
    "import pandas as pd\n",
    "import numpy as np\n",
    "import matplotlib.pyplot as plt\n",
    "from sklearn.linear_model import SGDRegressor\n",
    "from sklearn import preprocessing\n",
    "from sklearn.metrics import mean_squared_error\n",
    "from sklearn.model_selection import train_test_split"
   ]
  },
  {
   "cell_type": "code",
   "execution_count": 2,
   "metadata": {},
   "outputs": [],
   "source": [
    "boston = load_boston()\n",
    "X = boston.data\n",
    "Y = boston.target"
   ]
  },
  {
   "cell_type": "code",
   "execution_count": 3,
   "metadata": {},
   "outputs": [],
   "source": [
    "X_train, X_test, y_train, y_test = train_test_split(X, Y, test_size=0.3, random_state=0)"
   ]
  },
  {
   "cell_type": "code",
   "execution_count": 4,
   "metadata": {},
   "outputs": [],
   "source": [
    "## Here I am standartizing the dataset\n",
    "scaler = preprocessing.StandardScaler()\n",
    "X_train = scaler.fit_transform(X_train)\n",
    "X_test = scaler.transform(X_test)"
   ]
  },
  {
   "cell_type": "code",
   "execution_count": 5,
   "metadata": {},
   "outputs": [
    {
     "data": {
      "text/html": [
       "<div>\n",
       "<style scoped>\n",
       "    .dataframe tbody tr th:only-of-type {\n",
       "        vertical-align: middle;\n",
       "    }\n",
       "\n",
       "    .dataframe tbody tr th {\n",
       "        vertical-align: top;\n",
       "    }\n",
       "\n",
       "    .dataframe thead th {\n",
       "        text-align: right;\n",
       "    }\n",
       "</style>\n",
       "<table border=\"1\" class=\"dataframe\">\n",
       "  <thead>\n",
       "    <tr style=\"text-align: right;\">\n",
       "      <th></th>\n",
       "      <th>0</th>\n",
       "      <th>1</th>\n",
       "      <th>2</th>\n",
       "      <th>3</th>\n",
       "      <th>4</th>\n",
       "      <th>5</th>\n",
       "      <th>6</th>\n",
       "      <th>7</th>\n",
       "      <th>8</th>\n",
       "      <th>9</th>\n",
       "      <th>10</th>\n",
       "      <th>11</th>\n",
       "      <th>12</th>\n",
       "      <th>price</th>\n",
       "    </tr>\n",
       "  </thead>\n",
       "  <tbody>\n",
       "    <tr>\n",
       "      <td>0</td>\n",
       "      <td>-0.207356</td>\n",
       "      <td>-0.499979</td>\n",
       "      <td>1.548016</td>\n",
       "      <td>-0.263603</td>\n",
       "      <td>0.588213</td>\n",
       "      <td>-1.839367</td>\n",
       "      <td>1.107402</td>\n",
       "      <td>-1.125110</td>\n",
       "      <td>-0.618160</td>\n",
       "      <td>0.206735</td>\n",
       "      <td>1.227257</td>\n",
       "      <td>0.424543</td>\n",
       "      <td>3.108073</td>\n",
       "      <td>14.4</td>\n",
       "    </tr>\n",
       "    <tr>\n",
       "      <td>1</td>\n",
       "      <td>-0.388865</td>\n",
       "      <td>0.346774</td>\n",
       "      <td>-0.589747</td>\n",
       "      <td>-0.263603</td>\n",
       "      <td>-0.797821</td>\n",
       "      <td>0.327487</td>\n",
       "      <td>-0.367661</td>\n",
       "      <td>0.075090</td>\n",
       "      <td>-0.733637</td>\n",
       "      <td>-1.049493</td>\n",
       "      <td>0.056963</td>\n",
       "      <td>0.401853</td>\n",
       "      <td>-0.666430</td>\n",
       "      <td>24.4</td>\n",
       "    </tr>\n",
       "    <tr>\n",
       "      <td>2</td>\n",
       "      <td>-0.335735</td>\n",
       "      <td>-0.499979</td>\n",
       "      <td>1.548016</td>\n",
       "      <td>-0.263603</td>\n",
       "      <td>0.588213</td>\n",
       "      <td>0.037907</td>\n",
       "      <td>1.043114</td>\n",
       "      <td>-0.799984</td>\n",
       "      <td>-0.618160</td>\n",
       "      <td>0.206735</td>\n",
       "      <td>1.227257</td>\n",
       "      <td>0.398461</td>\n",
       "      <td>0.639367</td>\n",
       "      <td>18.1</td>\n",
       "    </tr>\n",
       "  </tbody>\n",
       "</table>\n",
       "</div>"
      ],
      "text/plain": [
       "          0         1         2         3         4         5         6  \\\n",
       "0 -0.207356 -0.499979  1.548016 -0.263603  0.588213 -1.839367  1.107402   \n",
       "1 -0.388865  0.346774 -0.589747 -0.263603 -0.797821  0.327487 -0.367661   \n",
       "2 -0.335735 -0.499979  1.548016 -0.263603  0.588213  0.037907  1.043114   \n",
       "\n",
       "          7         8         9        10        11        12  price  \n",
       "0 -1.125110 -0.618160  0.206735  1.227257  0.424543  3.108073   14.4  \n",
       "1  0.075090 -0.733637 -1.049493  0.056963  0.401853 -0.666430   24.4  \n",
       "2 -0.799984 -0.618160  0.206735  1.227257  0.398461  0.639367   18.1  "
      ]
     },
     "execution_count": 5,
     "metadata": {},
     "output_type": "execute_result"
    }
   ],
   "source": [
    "## Here I am adding the 'price' Column in the data\n",
    "train_data=pd.DataFrame(X_train)\n",
    "train_data['price'] = y_train\n",
    "train_data.head(3)"
   ]
  },
  {
   "cell_type": "code",
   "execution_count": 6,
   "metadata": {},
   "outputs": [],
   "source": [
    "X_test=np.array(X_test)\n",
    "y_test=np.array(y_test)"
   ]
  },
  {
   "cell_type": "code",
   "execution_count": 14,
   "metadata": {},
   "outputs": [
    {
     "data": {
      "image/png": "[encoded data removed]",
      "text/plain": [
       "<Figure size 432x288 with 1 Axes>"
      ]
     },
     "metadata": {
      "needs_background": "light"
     },
     "output_type": "display_data"
    }
   ],
   "source": [
    "clf_ = SGDRegressor(max_iter = 1000)\n",
    "clf_.fit(X_train, y_train)\n",
    "y_pred_sgd=clf_.predict(X_test)\n",
    "plt.scatter(y_test,y_pred_sgd)\n",
    "plt.grid()\n",
    "plt.xlabel(\"Actual y\")\n",
    "plt.ylabel(\"Predicted $\\overline{y}$\")\n",
    "plt.title(\"Scatter plot from actual y and predicted $\\overline{y}$\")\n",
    "plt.show()\n"
   ]
  },
  {
   "cell_type": "code",
   "execution_count": 15,
   "metadata": {},
   "outputs": [
    {
     "name": "stdout",
     "output_type": "stream",
     "text": [
      "MSE : 27.620890592856245\n"
     ]
    }
   ],
   "source": [
    "print('MSE :',mean_squared_error(y_test, y_pred_sgd))"
   ]
  },
  {
   "cell_type": "code",
   "execution_count": 9,
   "metadata": {},
   "outputs": [],
   "source": [
    "def predict(x,w,b):\n",
    "    y_predicted = []\n",
    "    for i in range(len(x)):\n",
    "        y = np.asscalar(np.dot(w,x[i])+b)\n",
    "        y_predicted.append(y)\n",
    "    return np.array(y_predicted)"
   ]
  },
  {
   "cell_type": "code",
   "execution_count": 10,
   "metadata": {},
   "outputs": [],
   "source": [
    "def SGD_Ridge(train_data,l_rate,n_iter,k):\n",
    "    w = np.zeros(shape=(1,train_data.shape[1]-1))\n",
    "    b = 0\n",
    "    j = 1\n",
    "    while(j<=n_iter): \n",
    "        temp=train_data.sample(k)\n",
    "        y=np.array(temp['price'])\n",
    "        x=np.array(temp.drop('price',axis=1))\n",
    "        w_grad=np.zeros(shape=(1,train_data.shape[1]-1))\n",
    "        b_grad=0\n",
    "        for i in range(k):\n",
    "            predict=np.dot(w,x[i])+b\n",
    "            w_grad=w_grad+(-2)*x[i]*(y[i]-(predict))+2*0.1*w\n",
    "            b_grad=b_grad+(-2)*(y[i]-(predict))\n",
    "        w=w-l_rate*(w_grad/k)\n",
    "        b=b-l_rate*(b_grad/k)\n",
    "        \n",
    "        j=j+1\n",
    "        \n",
    "    return w,b"
   ]
  },
  {
   "cell_type": "code",
   "execution_count": 11,
   "metadata": {},
   "outputs": [
    {
     "data": {
      "image/png": "[encoded data removed]",
      "text/plain": [
       "<Figure size 432x288 with 1 Axes>"
      ]
     },
     "metadata": {
      "needs_background": "light"
     },
     "output_type": "display_data"
    },
    {
     "name": "stdout",
     "output_type": "stream",
     "text": [
      "Mean Squared Error : 35.329012307598894\n"
     ]
    }
   ],
   "source": [
    "w,b=SGD_Ridge(train_data,0.1, 1000, 10)\n",
    "y_pred = predict(X_test,w,b)\n",
    "\n",
    "plt.scatter(y_test,y_pred)\n",
    "plt.grid()\n",
    "plt.xlabel(\"Actual y\")\n",
    "plt.ylabel(\"Predicted $\\overline{y}$\")\n",
    "plt.title(\"Scatter plot from actual y and predicted $\\overline{y}$ when learning rate is 0.1\")\n",
    "plt.show()\n",
    "print('Mean Squared Error :',mean_squared_error(y_test, y_pred))"
   ]
  },
  {
   "cell_type": "code",
   "execution_count": 12,
   "metadata": {},
   "outputs": [
    {
     "data": {
      "image/png": "[encoded data removed]",
      "text/plain": [
       "<Figure size 432x288 with 1 Axes>"
      ]
     },
     "metadata": {
      "needs_background": "light"
     },
     "output_type": "display_data"
    },
    {
     "name": "stdout",
     "output_type": "stream",
     "text": [
      "Mean Squared Error : 27.1310353944049\n"
     ]
    }
   ],
   "source": [
    "w,b=SGD_Ridge(train_data,0.01, 1000, 10)\n",
    "y_pred = predict(X_test,w,b) \n",
    "\n",
    "plt.scatter(y_test,y_pred)\n",
    "plt.grid()\n",
    "plt.xlabel(\"Actual y\")\n",
    "plt.ylabel(\"Predicted $\\overline{y}$\")\n",
    "plt.title(\"Scatter plot from actual y and predicted $\\overline{y}$ when learning rate is 0.01\")\n",
    "plt.show()\n",
    "print('Mean Squared Error :',mean_squared_error(y_test, y_pred))"
   ]
  },
  {
   "cell_type": "code",
   "execution_count": 13,
   "metadata": {},
   "outputs": [
    {
     "data": {
      "image/png": "[encoded data removed]",
      "text/plain": [
       "<Figure size 432x288 with 1 Axes>"
      ]
     },
     "metadata": {
      "needs_background": "light"
     },
     "output_type": "display_data"
    },
    {
     "name": "stdout",
     "output_type": "stream",
     "text": [
      "Mean Squared Error : 40.57717702638832\n"
     ]
    }
   ],
   "source": [
    "w,b=SGD_Ridge(train_data,0.001, 1000, 10)\n",
    "y_pred = predict(X_test,w,b) \n",
    "\n",
    "plt.scatter(y_test,y_pred)\n",
    "plt.grid()\n",
    "plt.xlabel(\"Actual y\")\n",
    "plt.ylabel(\"Predicted $\\overline{y}$\")\n",
    "plt.title(\"Scatter plot from actual y and predicted $\\overline{y}$ when learning rate is 0.001\")\n",
    "plt.show()\n",
    "print('Mean Squared Error :',mean_squared_error(y_test, y_pred))"
   ]
  },
  {
   "cell_type": "code",
   "execution_count": null,
   "metadata": {},
   "outputs": [],
   "source": []
  }
 ],
 "metadata": {
  "kernelspec": {
   "display_name": "Python 3",
   "language": "python",
   "name": "python3"
  },
  "language_info": {
   "codemirror_mode": {
    "name": "ipython",
    "version": 3
   },
   "file_extension": ".py",
   "mimetype": "text/x-python",
   "name": "python",
   "nbconvert_exporter": "python",
   "pygments_lexer": "ipython3",
   "version": "3.7.4"
  }
 },
 "nbformat": 4,
 "nbformat_minor": 2
}
